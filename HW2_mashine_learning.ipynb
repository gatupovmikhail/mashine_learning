{
 "cells": [
  {
   "cell_type": "code",
   "execution_count": 2,
   "metadata": {},
   "outputs": [],
   "source": [
    "# импорт библиотек\n",
    "import matplotlib.pyplot as plt\n",
    "%matplotlib inline\n",
    "import pandas as pd\n",
    "import numpy as np\n",
    "import seaborn as sns\n",
    "import sklearn\n",
    "from sklearn.linear_model import LinearRegression\n",
    "from sklearn.metrics import mean_squared_error, r2_score\n",
    "from sklearn.preprocessing import OneHotEncoder,LabelEncoder"
   ]
  },
  {
   "cell_type": "markdown",
   "metadata": {},
   "source": [
    "# Предобработка"
   ]
  },
  {
   "cell_type": "markdown",
   "metadata": {},
   "source": [
    "### Устранение пропусков "
   ]
  },
  {
   "cell_type": "code",
   "execution_count": 3,
   "metadata": {},
   "outputs": [],
   "source": [
    "train0 = pd.read_csv('train_bi/train_bi.csv')\n",
    "train = train0.copy() # Будем хранить исходные данные в train0\n",
    "test = pd.read_csv('train_bi/test_bi.csv')\n"
   ]
  },
  {
   "cell_type": "code",
   "execution_count": 4,
   "metadata": {},
   "outputs": [
    {
     "data": {
      "text/html": [
       "<div>\n",
       "<style scoped>\n",
       "    .dataframe tbody tr th:only-of-type {\n",
       "        vertical-align: middle;\n",
       "    }\n",
       "\n",
       "    .dataframe tbody tr th {\n",
       "        vertical-align: top;\n",
       "    }\n",
       "\n",
       "    .dataframe thead th {\n",
       "        text-align: right;\n",
       "    }\n",
       "</style>\n",
       "<table border=\"1\" class=\"dataframe\">\n",
       "  <thead>\n",
       "    <tr style=\"text-align: right;\">\n",
       "      <th></th>\n",
       "      <th>id</th>\n",
       "      <th>gender</th>\n",
       "      <th>age</th>\n",
       "      <th>hypertension</th>\n",
       "      <th>heart_disease</th>\n",
       "      <th>ever_married</th>\n",
       "      <th>work_type</th>\n",
       "      <th>Residence_type</th>\n",
       "      <th>avg_glucose_level</th>\n",
       "      <th>bmi</th>\n",
       "      <th>smoking_status</th>\n",
       "      <th>stroke</th>\n",
       "    </tr>\n",
       "  </thead>\n",
       "  <tbody>\n",
       "    <tr>\n",
       "      <th>0</th>\n",
       "      <td>30669</td>\n",
       "      <td>Male</td>\n",
       "      <td>3.0</td>\n",
       "      <td>0</td>\n",
       "      <td>0</td>\n",
       "      <td>No</td>\n",
       "      <td>children</td>\n",
       "      <td>Rural</td>\n",
       "      <td>95.12</td>\n",
       "      <td>18.0</td>\n",
       "      <td>NaN</td>\n",
       "      <td>0</td>\n",
       "    </tr>\n",
       "    <tr>\n",
       "      <th>1</th>\n",
       "      <td>30468</td>\n",
       "      <td>Male</td>\n",
       "      <td>58.0</td>\n",
       "      <td>1</td>\n",
       "      <td>0</td>\n",
       "      <td>Yes</td>\n",
       "      <td>Private</td>\n",
       "      <td>Urban</td>\n",
       "      <td>87.96</td>\n",
       "      <td>39.2</td>\n",
       "      <td>never smoked</td>\n",
       "      <td>0</td>\n",
       "    </tr>\n",
       "    <tr>\n",
       "      <th>2</th>\n",
       "      <td>16523</td>\n",
       "      <td>Female</td>\n",
       "      <td>8.0</td>\n",
       "      <td>0</td>\n",
       "      <td>0</td>\n",
       "      <td>No</td>\n",
       "      <td>Private</td>\n",
       "      <td>Urban</td>\n",
       "      <td>110.89</td>\n",
       "      <td>17.6</td>\n",
       "      <td>NaN</td>\n",
       "      <td>0</td>\n",
       "    </tr>\n",
       "    <tr>\n",
       "      <th>3</th>\n",
       "      <td>56543</td>\n",
       "      <td>Female</td>\n",
       "      <td>70.0</td>\n",
       "      <td>0</td>\n",
       "      <td>0</td>\n",
       "      <td>Yes</td>\n",
       "      <td>Private</td>\n",
       "      <td>Rural</td>\n",
       "      <td>69.04</td>\n",
       "      <td>35.9</td>\n",
       "      <td>formerly smoked</td>\n",
       "      <td>0</td>\n",
       "    </tr>\n",
       "    <tr>\n",
       "      <th>4</th>\n",
       "      <td>46136</td>\n",
       "      <td>Male</td>\n",
       "      <td>14.0</td>\n",
       "      <td>0</td>\n",
       "      <td>0</td>\n",
       "      <td>No</td>\n",
       "      <td>Never_worked</td>\n",
       "      <td>Rural</td>\n",
       "      <td>161.28</td>\n",
       "      <td>19.1</td>\n",
       "      <td>NaN</td>\n",
       "      <td>0</td>\n",
       "    </tr>\n",
       "  </tbody>\n",
       "</table>\n",
       "</div>"
      ],
      "text/plain": [
       "      id  gender   age  hypertension  heart_disease ever_married  \\\n",
       "0  30669    Male   3.0             0              0           No   \n",
       "1  30468    Male  58.0             1              0          Yes   \n",
       "2  16523  Female   8.0             0              0           No   \n",
       "3  56543  Female  70.0             0              0          Yes   \n",
       "4  46136    Male  14.0             0              0           No   \n",
       "\n",
       "      work_type Residence_type  avg_glucose_level   bmi   smoking_status  \\\n",
       "0      children          Rural              95.12  18.0              NaN   \n",
       "1       Private          Urban              87.96  39.2     never smoked   \n",
       "2       Private          Urban             110.89  17.6              NaN   \n",
       "3       Private          Rural              69.04  35.9  formerly smoked   \n",
       "4  Never_worked          Rural             161.28  19.1              NaN   \n",
       "\n",
       "   stroke  \n",
       "0       0  \n",
       "1       0  \n",
       "2       0  \n",
       "3       0  \n",
       "4       0  "
      ]
     },
     "execution_count": 4,
     "metadata": {},
     "output_type": "execute_result"
    }
   ],
   "source": [
    "train.head()"
   ]
  },
  {
   "cell_type": "code",
   "execution_count": 5,
   "metadata": {},
   "outputs": [
    {
     "data": {
      "text/plain": [
       "id                      0\n",
       "gender                  0\n",
       "age                     0\n",
       "hypertension            0\n",
       "heart_disease           0\n",
       "ever_married            0\n",
       "work_type               0\n",
       "Residence_type          0\n",
       "avg_glucose_level       0\n",
       "bmi                  1017\n",
       "smoking_status       9176\n",
       "stroke                  0\n",
       "dtype: int64"
      ]
     },
     "execution_count": 5,
     "metadata": {},
     "output_type": "execute_result"
    }
   ],
   "source": [
    "train.isna().sum()"
   ]
  },
  {
   "cell_type": "code",
   "execution_count": 6,
   "metadata": {},
   "outputs": [
    {
     "data": {
      "text/plain": [
       "never smoked       11079\n",
       "formerly smoked     5183\n",
       "smokes              4563\n",
       "Name: smoking_status, dtype: int64"
      ]
     },
     "execution_count": 6,
     "metadata": {},
     "output_type": "execute_result"
    }
   ],
   "source": [
    "train['smoking_status'].value_counts()"
   ]
  },
  {
   "cell_type": "code",
   "execution_count": 7,
   "metadata": {},
   "outputs": [],
   "source": [
    "# remove NaN\n",
    "train['smoking_status']=train['smoking_status'].fillna('unknown');\n",
    "test['smoking_status']=test['smoking_status'].fillna('unknown');"
   ]
  },
  {
   "cell_type": "code",
   "execution_count": 8,
   "metadata": {},
   "outputs": [
    {
     "data": {
      "text/plain": [
       "<matplotlib.axes._subplots.AxesSubplot at 0x7fc1b9212a58>"
      ]
     },
     "execution_count": 8,
     "metadata": {},
     "output_type": "execute_result"
    },
    {
     "data": {
      "image/png": "[encoded data removed]",
      "text/plain": [
       "<Figure size 432x288 with 1 Axes>"
      ]
     },
     "metadata": {
      "needs_background": "light"
     },
     "output_type": "display_data"
    }
   ],
   "source": [
    "train['bmi'].hist(bins=50)"
   ]
  },
  {
   "cell_type": "code",
   "execution_count": 9,
   "metadata": {},
   "outputs": [],
   "source": [
    "mean_bmi = train['bmi'].mean();\n",
    "train['bmi'] = train['bmi'].fillna(mean_bmi);\n",
    "mean_bmi = test['bmi'].mean();\n",
    "test['bmi'] = test['bmi'].fillna(mean_bmi);"
   ]
  },
  {
   "cell_type": "code",
   "execution_count": 10,
   "metadata": {},
   "outputs": [
    {
     "data": {
      "text/plain": [
       "id                   0\n",
       "gender               0\n",
       "age                  0\n",
       "hypertension         0\n",
       "heart_disease        0\n",
       "ever_married         0\n",
       "work_type            0\n",
       "Residence_type       0\n",
       "avg_glucose_level    0\n",
       "bmi                  0\n",
       "smoking_status       0\n",
       "dtype: int64"
      ]
     },
     "execution_count": 10,
     "metadata": {},
     "output_type": "execute_result"
    }
   ],
   "source": [
    "train.isna().sum()\n",
    "test.isna().sum()"
   ]
  },
  {
   "cell_type": "markdown",
   "metadata": {},
   "source": [
    "### Перевод текстовых данных в численные с помощью map"
   ]
  },
  {
   "cell_type": "code",
   "execution_count": 11,
   "metadata": {},
   "outputs": [],
   "source": [
    "train['gender']=train['gender'].replace({'Female':0,'Male':1,'Other':0})\n",
    "train['ever_married']=train['ever_married'].replace({'No':0,'Yes':1})\n",
    "train['Residence_type'] =train['Residence_type'].replace({'Urban':1,'Rural':0})\n",
    "test['gender']=test['gender'].replace({'Female':0,'Male':1,'Other':0})\n",
    "test['ever_married']=test['ever_married'].replace({'No':0,'Yes':1})\n",
    "test['Residence_type'] =test['Residence_type'].replace({'Urban':1,'Rural':0})\n",
    "\n",
    "features = ['gender', 'age', 'hypertension', 'heart_disease', 'ever_married', \\\n",
    "       'work_type', 'Residence_type', 'avg_glucose_level', 'bmi', \\\n",
    "       'smoking_status']"
   ]
  },
  {
   "cell_type": "code",
   "execution_count": 12,
   "metadata": {},
   "outputs": [
    {
     "data": {
      "text/html": [
       "<div>\n",
       "<style scoped>\n",
       "    .dataframe tbody tr th:only-of-type {\n",
       "        vertical-align: middle;\n",
       "    }\n",
       "\n",
       "    .dataframe tbody tr th {\n",
       "        vertical-align: top;\n",
       "    }\n",
       "\n",
       "    .dataframe thead th {\n",
       "        text-align: right;\n",
       "    }\n",
       "</style>\n",
       "<table border=\"1\" class=\"dataframe\">\n",
       "  <thead>\n",
       "    <tr style=\"text-align: right;\">\n",
       "      <th></th>\n",
       "      <th>id</th>\n",
       "      <th>gender</th>\n",
       "      <th>age</th>\n",
       "      <th>hypertension</th>\n",
       "      <th>heart_disease</th>\n",
       "      <th>ever_married</th>\n",
       "      <th>work_type</th>\n",
       "      <th>Residence_type</th>\n",
       "      <th>avg_glucose_level</th>\n",
       "      <th>bmi</th>\n",
       "      <th>smoking_status</th>\n",
       "      <th>stroke</th>\n",
       "    </tr>\n",
       "  </thead>\n",
       "  <tbody>\n",
       "    <tr>\n",
       "      <th>0</th>\n",
       "      <td>30669</td>\n",
       "      <td>1</td>\n",
       "      <td>3.0</td>\n",
       "      <td>0</td>\n",
       "      <td>0</td>\n",
       "      <td>0</td>\n",
       "      <td>children</td>\n",
       "      <td>0</td>\n",
       "      <td>95.12</td>\n",
       "      <td>18.0</td>\n",
       "      <td>unknown</td>\n",
       "      <td>0</td>\n",
       "    </tr>\n",
       "    <tr>\n",
       "      <th>1</th>\n",
       "      <td>30468</td>\n",
       "      <td>1</td>\n",
       "      <td>58.0</td>\n",
       "      <td>1</td>\n",
       "      <td>0</td>\n",
       "      <td>1</td>\n",
       "      <td>Private</td>\n",
       "      <td>1</td>\n",
       "      <td>87.96</td>\n",
       "      <td>39.2</td>\n",
       "      <td>never smoked</td>\n",
       "      <td>0</td>\n",
       "    </tr>\n",
       "    <tr>\n",
       "      <th>2</th>\n",
       "      <td>16523</td>\n",
       "      <td>0</td>\n",
       "      <td>8.0</td>\n",
       "      <td>0</td>\n",
       "      <td>0</td>\n",
       "      <td>0</td>\n",
       "      <td>Private</td>\n",
       "      <td>1</td>\n",
       "      <td>110.89</td>\n",
       "      <td>17.6</td>\n",
       "      <td>unknown</td>\n",
       "      <td>0</td>\n",
       "    </tr>\n",
       "    <tr>\n",
       "      <th>3</th>\n",
       "      <td>56543</td>\n",
       "      <td>0</td>\n",
       "      <td>70.0</td>\n",
       "      <td>0</td>\n",
       "      <td>0</td>\n",
       "      <td>1</td>\n",
       "      <td>Private</td>\n",
       "      <td>0</td>\n",
       "      <td>69.04</td>\n",
       "      <td>35.9</td>\n",
       "      <td>formerly smoked</td>\n",
       "      <td>0</td>\n",
       "    </tr>\n",
       "    <tr>\n",
       "      <th>4</th>\n",
       "      <td>46136</td>\n",
       "      <td>1</td>\n",
       "      <td>14.0</td>\n",
       "      <td>0</td>\n",
       "      <td>0</td>\n",
       "      <td>0</td>\n",
       "      <td>Never_worked</td>\n",
       "      <td>0</td>\n",
       "      <td>161.28</td>\n",
       "      <td>19.1</td>\n",
       "      <td>unknown</td>\n",
       "      <td>0</td>\n",
       "    </tr>\n",
       "  </tbody>\n",
       "</table>\n",
       "</div>"
      ],
      "text/plain": [
       "      id  gender   age  hypertension  heart_disease  ever_married  \\\n",
       "0  30669       1   3.0             0              0             0   \n",
       "1  30468       1  58.0             1              0             1   \n",
       "2  16523       0   8.0             0              0             0   \n",
       "3  56543       0  70.0             0              0             1   \n",
       "4  46136       1  14.0             0              0             0   \n",
       "\n",
       "      work_type  Residence_type  avg_glucose_level   bmi   smoking_status  \\\n",
       "0      children               0              95.12  18.0          unknown   \n",
       "1       Private               1              87.96  39.2     never smoked   \n",
       "2       Private               1             110.89  17.6          unknown   \n",
       "3       Private               0              69.04  35.9  formerly smoked   \n",
       "4  Never_worked               0             161.28  19.1          unknown   \n",
       "\n",
       "   stroke  \n",
       "0       0  \n",
       "1       0  \n",
       "2       0  \n",
       "3       0  \n",
       "4       0  "
      ]
     },
     "execution_count": 12,
     "metadata": {},
     "output_type": "execute_result"
    }
   ],
   "source": [
    "train.head()"
   ]
  },
  {
   "cell_type": "markdown",
   "metadata": {},
   "source": [
    "### Перевод smoking_status с помощью OneHotEncoder и LabelEncoder"
   ]
  },
  {
   "cell_type": "code",
   "execution_count": 13,
   "metadata": {
    "scrolled": true
   },
   "outputs": [
    {
     "data": {
      "text/plain": [
       "never smoked       11079\n",
       "unknown             9176\n",
       "formerly smoked     5183\n",
       "smokes              4563\n",
       "Name: smoking_status, dtype: int64"
      ]
     },
     "execution_count": 13,
     "metadata": {},
     "output_type": "execute_result"
    }
   ],
   "source": [
    "train['smoking_status'].value_counts()"
   ]
  },
  {
   "cell_type": "code",
   "execution_count": 14,
   "metadata": {},
   "outputs": [
    {
     "name": "stdout",
     "output_type": "stream",
     "text": [
      "['formerly smoked' 'never smoked' 'smokes' 'unknown']\n"
     ]
    }
   ],
   "source": [
    "# При попытке использование OneHotEncoder сразу на текстовых данных интерпретатор выдает ошибку. После поиска \n",
    "# методов решения аналогичной проблемы другими программистами было выяснено, что OneHotEncoder работает\n",
    "# только с числовыми данными. Поэтому перед его использования столбец был преобразован в числовой формат \n",
    "# с помощью LabelEncoder.\n",
    "# Возможно, способность работы с текстом OneHotEncoder зависит от версии, этот вопрос я выяснять не стал. \n",
    "smoking_status_hot = OneHotEncoder(handle_unknown='ignore',sparse=int,dtype=int)\n",
    "smoking_status_lab = LabelEncoder()\n",
    "smoking_status_lab.fit(train['smoking_status'])\n",
    "print(smoking_status_lab.classes_)\n",
    "train['smoking_status'] = smoking_status_lab.transform(train['smoking_status'])\n",
    "test['smoking_status'] = smoking_status_lab.transform(test['smoking_status'])\n",
    "smoking_status_hot.fit(train[['smoking_status']])\n",
    "new_rows_tr = smoking_status_hot.transform(train[['smoking_status']]).toarray()\n",
    "new_rows_te = smoking_status_hot.transform(test[['smoking_status']]).toarray()"
   ]
  },
  {
   "cell_type": "code",
   "execution_count": 15,
   "metadata": {},
   "outputs": [],
   "source": [
    "for k in ['formerly smoked','never smoked','smokes','unknown']:\n",
    "    train[k] = 10\n",
    "    test[k] = 10\n",
    "train[['formerly smoked','never smoked','smokes','unknown']] = new_rows_tr\n",
    "test[['formerly smoked','never smoked','smokes','unknown']] = new_rows_te\n"
   ]
  },
  {
   "cell_type": "code",
   "execution_count": 16,
   "metadata": {},
   "outputs": [
    {
     "data": {
      "text/html": [
       "<div>\n",
       "<style scoped>\n",
       "    .dataframe tbody tr th:only-of-type {\n",
       "        vertical-align: middle;\n",
       "    }\n",
       "\n",
       "    .dataframe tbody tr th {\n",
       "        vertical-align: top;\n",
       "    }\n",
       "\n",
       "    .dataframe thead th {\n",
       "        text-align: right;\n",
       "    }\n",
       "</style>\n",
       "<table border=\"1\" class=\"dataframe\">\n",
       "  <thead>\n",
       "    <tr style=\"text-align: right;\">\n",
       "      <th></th>\n",
       "      <th>id</th>\n",
       "      <th>gender</th>\n",
       "      <th>age</th>\n",
       "      <th>hypertension</th>\n",
       "      <th>heart_disease</th>\n",
       "      <th>ever_married</th>\n",
       "      <th>work_type</th>\n",
       "      <th>Residence_type</th>\n",
       "      <th>avg_glucose_level</th>\n",
       "      <th>bmi</th>\n",
       "      <th>smoking_status</th>\n",
       "      <th>stroke</th>\n",
       "      <th>formerly smoked</th>\n",
       "      <th>never smoked</th>\n",
       "      <th>smokes</th>\n",
       "      <th>unknown</th>\n",
       "    </tr>\n",
       "  </thead>\n",
       "  <tbody>\n",
       "    <tr>\n",
       "      <th>0</th>\n",
       "      <td>30669</td>\n",
       "      <td>1</td>\n",
       "      <td>3.0</td>\n",
       "      <td>0</td>\n",
       "      <td>0</td>\n",
       "      <td>0</td>\n",
       "      <td>children</td>\n",
       "      <td>0</td>\n",
       "      <td>95.12</td>\n",
       "      <td>18.0</td>\n",
       "      <td>3</td>\n",
       "      <td>0</td>\n",
       "      <td>0</td>\n",
       "      <td>0</td>\n",
       "      <td>0</td>\n",
       "      <td>1</td>\n",
       "    </tr>\n",
       "    <tr>\n",
       "      <th>1</th>\n",
       "      <td>30468</td>\n",
       "      <td>1</td>\n",
       "      <td>58.0</td>\n",
       "      <td>1</td>\n",
       "      <td>0</td>\n",
       "      <td>1</td>\n",
       "      <td>Private</td>\n",
       "      <td>1</td>\n",
       "      <td>87.96</td>\n",
       "      <td>39.2</td>\n",
       "      <td>1</td>\n",
       "      <td>0</td>\n",
       "      <td>0</td>\n",
       "      <td>1</td>\n",
       "      <td>0</td>\n",
       "      <td>0</td>\n",
       "    </tr>\n",
       "    <tr>\n",
       "      <th>2</th>\n",
       "      <td>16523</td>\n",
       "      <td>0</td>\n",
       "      <td>8.0</td>\n",
       "      <td>0</td>\n",
       "      <td>0</td>\n",
       "      <td>0</td>\n",
       "      <td>Private</td>\n",
       "      <td>1</td>\n",
       "      <td>110.89</td>\n",
       "      <td>17.6</td>\n",
       "      <td>3</td>\n",
       "      <td>0</td>\n",
       "      <td>0</td>\n",
       "      <td>0</td>\n",
       "      <td>0</td>\n",
       "      <td>1</td>\n",
       "    </tr>\n",
       "    <tr>\n",
       "      <th>3</th>\n",
       "      <td>56543</td>\n",
       "      <td>0</td>\n",
       "      <td>70.0</td>\n",
       "      <td>0</td>\n",
       "      <td>0</td>\n",
       "      <td>1</td>\n",
       "      <td>Private</td>\n",
       "      <td>0</td>\n",
       "      <td>69.04</td>\n",
       "      <td>35.9</td>\n",
       "      <td>0</td>\n",
       "      <td>0</td>\n",
       "      <td>1</td>\n",
       "      <td>0</td>\n",
       "      <td>0</td>\n",
       "      <td>0</td>\n",
       "    </tr>\n",
       "    <tr>\n",
       "      <th>4</th>\n",
       "      <td>46136</td>\n",
       "      <td>1</td>\n",
       "      <td>14.0</td>\n",
       "      <td>0</td>\n",
       "      <td>0</td>\n",
       "      <td>0</td>\n",
       "      <td>Never_worked</td>\n",
       "      <td>0</td>\n",
       "      <td>161.28</td>\n",
       "      <td>19.1</td>\n",
       "      <td>3</td>\n",
       "      <td>0</td>\n",
       "      <td>0</td>\n",
       "      <td>0</td>\n",
       "      <td>0</td>\n",
       "      <td>1</td>\n",
       "    </tr>\n",
       "  </tbody>\n",
       "</table>\n",
       "</div>"
      ],
      "text/plain": [
       "      id  gender   age  hypertension  heart_disease  ever_married  \\\n",
       "0  30669       1   3.0             0              0             0   \n",
       "1  30468       1  58.0             1              0             1   \n",
       "2  16523       0   8.0             0              0             0   \n",
       "3  56543       0  70.0             0              0             1   \n",
       "4  46136       1  14.0             0              0             0   \n",
       "\n",
       "      work_type  Residence_type  avg_glucose_level   bmi  smoking_status  \\\n",
       "0      children               0              95.12  18.0               3   \n",
       "1       Private               1              87.96  39.2               1   \n",
       "2       Private               1             110.89  17.6               3   \n",
       "3       Private               0              69.04  35.9               0   \n",
       "4  Never_worked               0             161.28  19.1               3   \n",
       "\n",
       "   stroke  formerly smoked  never smoked  smokes  unknown  \n",
       "0       0                0             0       0        1  \n",
       "1       0                0             1       0        0  \n",
       "2       0                0             0       0        1  \n",
       "3       0                1             0       0        0  \n",
       "4       0                0             0       0        1  "
      ]
     },
     "execution_count": 16,
     "metadata": {},
     "output_type": "execute_result"
    }
   ],
   "source": [
    "train.head()"
   ]
  },
  {
   "cell_type": "markdown",
   "metadata": {},
   "source": [
    "### Перевод work_type с помощью OneHotEncoder и LabelEncoder"
   ]
  },
  {
   "cell_type": "code",
   "execution_count": 17,
   "metadata": {},
   "outputs": [
    {
     "name": "stdout",
     "output_type": "stream",
     "text": [
      "['Govt_job' 'Never_worked' 'Private' 'Self-employed' 'children']\n"
     ]
    }
   ],
   "source": [
    "train['work_type'].value_counts()\n",
    "work_type_hot = OneHotEncoder(handle_unknown='ignore',sparse=int,dtype=int)\n",
    "work_type_lab = LabelEncoder()\n",
    "work_type_lab.fit(train['work_type'])\n",
    "print(str(work_type_lab.classes_))\n",
    "train['work_type'] = work_type_lab.transform(train['work_type'])\n",
    "test['work_type'] = work_type_lab.transform(test['work_type'])\n",
    "work_type_hot.fit(train[['work_type']])\n",
    "new_rows_tr = work_type_hot.transform(train[['work_type']]).toarray()\n",
    "new_rows_te = work_type_hot.transform(test[['work_type']]).toarray()"
   ]
  },
  {
   "cell_type": "code",
   "execution_count": 18,
   "metadata": {},
   "outputs": [],
   "source": [
    "for k in ['Govt_job','Never_worked','Private','Self-employed','children']:\n",
    "    train[k] = 10\n",
    "    test[k] = 10\n",
    "train[['Govt_job','Never_worked','Private','Self-employed','children']] = new_rows_tr\n",
    "test[['Govt_job','Never_worked','Private','Self-employed','children']] = new_rows_te"
   ]
  },
  {
   "cell_type": "code",
   "execution_count": 19,
   "metadata": {},
   "outputs": [
    {
     "data": {
      "text/html": [
       "<div>\n",
       "<style scoped>\n",
       "    .dataframe tbody tr th:only-of-type {\n",
       "        vertical-align: middle;\n",
       "    }\n",
       "\n",
       "    .dataframe tbody tr th {\n",
       "        vertical-align: top;\n",
       "    }\n",
       "\n",
       "    .dataframe thead th {\n",
       "        text-align: right;\n",
       "    }\n",
       "</style>\n",
       "<table border=\"1\" class=\"dataframe\">\n",
       "  <thead>\n",
       "    <tr style=\"text-align: right;\">\n",
       "      <th></th>\n",
       "      <th>id</th>\n",
       "      <th>gender</th>\n",
       "      <th>age</th>\n",
       "      <th>hypertension</th>\n",
       "      <th>heart_disease</th>\n",
       "      <th>ever_married</th>\n",
       "      <th>work_type</th>\n",
       "      <th>Residence_type</th>\n",
       "      <th>avg_glucose_level</th>\n",
       "      <th>bmi</th>\n",
       "      <th>...</th>\n",
       "      <th>stroke</th>\n",
       "      <th>formerly smoked</th>\n",
       "      <th>never smoked</th>\n",
       "      <th>smokes</th>\n",
       "      <th>unknown</th>\n",
       "      <th>Govt_job</th>\n",
       "      <th>Never_worked</th>\n",
       "      <th>Private</th>\n",
       "      <th>Self-employed</th>\n",
       "      <th>children</th>\n",
       "    </tr>\n",
       "  </thead>\n",
       "  <tbody>\n",
       "    <tr>\n",
       "      <th>0</th>\n",
       "      <td>30669</td>\n",
       "      <td>1</td>\n",
       "      <td>3.0</td>\n",
       "      <td>0</td>\n",
       "      <td>0</td>\n",
       "      <td>0</td>\n",
       "      <td>4</td>\n",
       "      <td>0</td>\n",
       "      <td>95.12</td>\n",
       "      <td>18.0</td>\n",
       "      <td>...</td>\n",
       "      <td>0</td>\n",
       "      <td>0</td>\n",
       "      <td>0</td>\n",
       "      <td>0</td>\n",
       "      <td>1</td>\n",
       "      <td>0</td>\n",
       "      <td>0</td>\n",
       "      <td>0</td>\n",
       "      <td>0</td>\n",
       "      <td>1</td>\n",
       "    </tr>\n",
       "    <tr>\n",
       "      <th>1</th>\n",
       "      <td>30468</td>\n",
       "      <td>1</td>\n",
       "      <td>58.0</td>\n",
       "      <td>1</td>\n",
       "      <td>0</td>\n",
       "      <td>1</td>\n",
       "      <td>2</td>\n",
       "      <td>1</td>\n",
       "      <td>87.96</td>\n",
       "      <td>39.2</td>\n",
       "      <td>...</td>\n",
       "      <td>0</td>\n",
       "      <td>0</td>\n",
       "      <td>1</td>\n",
       "      <td>0</td>\n",
       "      <td>0</td>\n",
       "      <td>0</td>\n",
       "      <td>0</td>\n",
       "      <td>1</td>\n",
       "      <td>0</td>\n",
       "      <td>0</td>\n",
       "    </tr>\n",
       "    <tr>\n",
       "      <th>2</th>\n",
       "      <td>16523</td>\n",
       "      <td>0</td>\n",
       "      <td>8.0</td>\n",
       "      <td>0</td>\n",
       "      <td>0</td>\n",
       "      <td>0</td>\n",
       "      <td>2</td>\n",
       "      <td>1</td>\n",
       "      <td>110.89</td>\n",
       "      <td>17.6</td>\n",
       "      <td>...</td>\n",
       "      <td>0</td>\n",
       "      <td>0</td>\n",
       "      <td>0</td>\n",
       "      <td>0</td>\n",
       "      <td>1</td>\n",
       "      <td>0</td>\n",
       "      <td>0</td>\n",
       "      <td>1</td>\n",
       "      <td>0</td>\n",
       "      <td>0</td>\n",
       "    </tr>\n",
       "    <tr>\n",
       "      <th>3</th>\n",
       "      <td>56543</td>\n",
       "      <td>0</td>\n",
       "      <td>70.0</td>\n",
       "      <td>0</td>\n",
       "      <td>0</td>\n",
       "      <td>1</td>\n",
       "      <td>2</td>\n",
       "      <td>0</td>\n",
       "      <td>69.04</td>\n",
       "      <td>35.9</td>\n",
       "      <td>...</td>\n",
       "      <td>0</td>\n",
       "      <td>1</td>\n",
       "      <td>0</td>\n",
       "      <td>0</td>\n",
       "      <td>0</td>\n",
       "      <td>0</td>\n",
       "      <td>0</td>\n",
       "      <td>1</td>\n",
       "      <td>0</td>\n",
       "      <td>0</td>\n",
       "    </tr>\n",
       "    <tr>\n",
       "      <th>4</th>\n",
       "      <td>46136</td>\n",
       "      <td>1</td>\n",
       "      <td>14.0</td>\n",
       "      <td>0</td>\n",
       "      <td>0</td>\n",
       "      <td>0</td>\n",
       "      <td>1</td>\n",
       "      <td>0</td>\n",
       "      <td>161.28</td>\n",
       "      <td>19.1</td>\n",
       "      <td>...</td>\n",
       "      <td>0</td>\n",
       "      <td>0</td>\n",
       "      <td>0</td>\n",
       "      <td>0</td>\n",
       "      <td>1</td>\n",
       "      <td>0</td>\n",
       "      <td>1</td>\n",
       "      <td>0</td>\n",
       "      <td>0</td>\n",
       "      <td>0</td>\n",
       "    </tr>\n",
       "  </tbody>\n",
       "</table>\n",
       "<p>5 rows × 21 columns</p>\n",
       "</div>"
      ],
      "text/plain": [
       "      id  gender   age  hypertension  heart_disease  ever_married  work_type  \\\n",
       "0  30669       1   3.0             0              0             0          4   \n",
       "1  30468       1  58.0             1              0             1          2   \n",
       "2  16523       0   8.0             0              0             0          2   \n",
       "3  56543       0  70.0             0              0             1          2   \n",
       "4  46136       1  14.0             0              0             0          1   \n",
       "\n",
       "   Residence_type  avg_glucose_level   bmi    ...     stroke  formerly smoked  \\\n",
       "0               0              95.12  18.0    ...          0                0   \n",
       "1               1              87.96  39.2    ...          0                0   \n",
       "2               1             110.89  17.6    ...          0                0   \n",
       "3               0              69.04  35.9    ...          0                1   \n",
       "4               0             161.28  19.1    ...          0                0   \n",
       "\n",
       "   never smoked  smokes  unknown  Govt_job  Never_worked  Private  \\\n",
       "0             0       0        1         0             0        0   \n",
       "1             1       0        0         0             0        1   \n",
       "2             0       0        1         0             0        1   \n",
       "3             0       0        0         0             0        1   \n",
       "4             0       0        1         0             1        0   \n",
       "\n",
       "   Self-employed  children  \n",
       "0              0         1  \n",
       "1              0         0  \n",
       "2              0         0  \n",
       "3              0         0  \n",
       "4              0         0  \n",
       "\n",
       "[5 rows x 21 columns]"
      ]
     },
     "execution_count": 19,
     "metadata": {},
     "output_type": "execute_result"
    }
   ],
   "source": [
    "train.head()"
   ]
  },
  {
   "cell_type": "code",
   "execution_count": 20,
   "metadata": {},
   "outputs": [],
   "source": [
    "# Столбцы, которые в дальнейшем будут использоваться\n",
    "features = ['gender', 'age', 'hypertension', 'heart_disease', 'ever_married', \\\n",
    "        'Residence_type', 'avg_glucose_level', 'bmi', \\\n",
    "       'Govt_job','Never_worked','Private','Self-employed','children',\\\n",
    "           'formerly smoked','never smoked','smokes']"
   ]
  },
  {
   "cell_type": "markdown",
   "metadata": {},
   "source": [
    "# Построение классификаторов"
   ]
  },
  {
   "cell_type": "markdown",
   "metadata": {},
   "source": [
    "## RandomForest"
   ]
  },
  {
   "cell_type": "markdown",
   "metadata": {},
   "source": [
    "### n_estimators"
   ]
  },
  {
   "cell_type": "code",
   "execution_count": 25,
   "metadata": {},
   "outputs": [
    {
     "name": "stdout",
     "output_type": "stream",
     "text": [
      "n_estimators: 1\n",
      "0.7802944730257505|0.7082640286405315|0.7673646397922311|0.7178722067976168|0.712617355001461\n",
      "average auc: 0.7372825406515182\n",
      "=============================\n",
      "n_estimators: 3\n",
      "0.8166603342814798|0.8196203753279211|0.8197726117886178|0.8326672393829604|0.7934827338800848\n",
      "average auc: 0.8164406589322128\n",
      "=============================\n",
      "n_estimators: 10\n",
      "0.8156856603993168|0.8415363234916473|0.8392235842931346|0.8403968342899356|0.836590283610151\n",
      "average auc: 0.834686537216837\n",
      "=============================\n",
      "n_estimators: 100\n",
      "0.8319188153989916|0.8424787554191934|0.8387772061314362|0.8531217879815347|0.837838602739265\n",
      "average auc: 0.8408270335340843\n",
      "=============================\n",
      "n_estimators: 300\n",
      "0.8286448011117615|0.845924548379571|0.8385337271341464|0.852214987183052|0.8369130720124098\n",
      "average auc: 0.8404462271641883\n",
      "=============================\n"
     ]
    },
    {
     "data": {
      "image/png": "[encoded data removed]",
      "text/plain": [
       "<Figure size 576x576 with 1 Axes>"
      ]
     },
     "metadata": {
      "needs_background": "light"
     },
     "output_type": "display_data"
    }
   ],
   "source": [
    "from sklearn.ensemble import RandomForestClassifier\n",
    "from sklearn.metrics import roc_auc_score\n",
    "from sklearn.model_selection import KFold\n",
    "\n",
    "n_estimators_list = [1, 3, 10, 100, 300 ]\n",
    "\n",
    "x = np.array(train[features].copy())\n",
    "y = np.array(train['stroke'].copy())\n",
    "    \n",
    "mean_auc_list = [ ]\n",
    "for n in n_estimators_list:\n",
    "    clf = RandomForestClassifier(n_estimators = n, max_depth = 3)\n",
    "    \n",
    "    print(\"n_estimators:\", n)\n",
    "    \n",
    "    kf = KFold(n_splits=5)\n",
    "    kf.get_n_splits(x)\n",
    "    scores = []\n",
    "    fold_number = 1\n",
    "    \n",
    "    auc_in_folds = []\n",
    "    for train_index, test_index in kf.split(x):\n",
    "        x_train, x_test = x[train_index], x[test_index]\n",
    "        y_train, y_test = y[train_index], y[test_index]\n",
    "        \n",
    "        clf.fit(x_train, y_train)\n",
    "        prediction = clf.predict_proba(x_test)[:,1]\n",
    "        \n",
    "        auc = roc_auc_score(y_test, prediction )\n",
    "        auc_in_folds.append(auc)\n",
    "        \n",
    "    print('|'.join([str(el) for el in auc_in_folds]))\n",
    "    print(\"average auc:\",np.mean(auc_in_folds))\n",
    "    mean_auc_list.append( np.mean(auc_in_folds))\n",
    "    print('=============================')\n",
    "    \n",
    "    \n",
    "# plot \n",
    "plt.figure(figsize=(8,8))\n",
    "plt.plot(n_estimators_list, mean_auc_list )\n",
    "plt.scatter(n_estimators_list, mean_auc_list )\n",
    "plt.xlabel(' n estimators')\n",
    "plt.ylabel('CV auc')\n",
    "plt.grid(1)\n",
    "plt.show()"
   ]
  },
  {
   "cell_type": "markdown",
   "metadata": {},
   "source": [
    "#### Вывод\n",
    "Прежде всего, при использовании 1 и 3 случайных деревьев налицо проблема переобучения: значения roc-auc в кросс-валидации сильно различаются между собой. Кроме того, при n_estimators>=100 roc-auc выходит на ассимтоту, что говорит о том, что не имеет смысла задавать количество деревьев более 100 - при прочих неизменных параметрах, точность результатов это не увеличит."
   ]
  },
  {
   "cell_type": "markdown",
   "metadata": {},
   "source": [
    "### min_samples_split"
   ]
  },
  {
   "cell_type": "code",
   "execution_count": 26,
   "metadata": {},
   "outputs": [
    {
     "name": "stdout",
     "output_type": "stream",
     "text": [
      "min_samples_split: 2\n",
      "0.6615468476701958|0.6364285606387389|0.6044022061314362|0.6253522412712642|0.6164784244254443\n",
      "average auc: 0.6288416560274159\n",
      "=============================\n",
      "min_samples_split: 4\n",
      "0.7039627039627039|0.6809746239923196|0.641967663166215|0.6912844753766578|0.6809902107915353\n",
      "average auc: 0.6798359354578862\n",
      "=============================\n",
      "min_samples_split: 8\n",
      "0.7437121126548439|0.7365504138140546|0.7103570319557361|0.7262312362786721|0.74738977387984\n",
      "average auc: 0.7328481137166293\n",
      "=============================\n",
      "min_samples_split: 15\n",
      "0.780611948012829|0.7569851577461526|0.7465824723351399|0.7739714278204549|0.7508226514849031\n",
      "average auc: 0.761794731479896\n",
      "=============================\n",
      "min_samples_split: 25\n",
      "0.803032870213487|0.7830375680388857|0.7646413801377596|0.7747440414679797|0.7902173696875683\n",
      "average auc: 0.7831346459091361\n",
      "=============================\n",
      "min_samples_split: 50\n",
      "0.8083905815183349|0.8101994128892464|0.7937971078929538|0.82063604709554|0.8136134096398997\n",
      "average auc: 0.8093273118071951\n",
      "=============================\n"
     ]
    },
    {
     "data": {
      "image/png": "[encoded data removed]",
      "text/plain": [
       "<Figure size 576x576 with 1 Axes>"
      ]
     },
     "metadata": {
      "needs_background": "light"
     },
     "output_type": "display_data"
    }
   ],
   "source": [
    "min_samples_split_list = [2,4,8,15,25,50]\n",
    "name='min_samples_split'\n",
    "x = np.array(train[features].copy())\n",
    "y = np.array(train['stroke'].copy())\n",
    "    \n",
    "mean_auc_list = []\n",
    "for n in min_samples_split_list:\n",
    "    clf = RandomForestClassifier(min_samples_split=n)\n",
    "    \n",
    "    print(\"{}:\".format(name), n)\n",
    "    \n",
    "    kf = KFold(n_splits=5)\n",
    "    kf.get_n_splits(x)\n",
    "    scores = []\n",
    "    fold_number = 1\n",
    "    \n",
    "    auc_in_folds = []\n",
    "    for train_index, test_index in kf.split(x):\n",
    "\n",
    "        x_train, x_test = x[train_index], x[test_index]\n",
    "        y_train, y_test = y[train_index], y[test_index]\n",
    "        \n",
    "        clf.fit(x_train, y_train)\n",
    "        prediction = clf.predict_proba(x_test)[:,1]\n",
    "        \n",
    "        auc = roc_auc_score(y_test, prediction )\n",
    "        auc_in_folds.append(auc)\n",
    "        \n",
    "    print('|'.join([str(el) for el in auc_in_folds]))\n",
    "    print(\"average auc:\",np.mean(auc_in_folds))\n",
    "    mean_auc_list.append( np.mean(auc_in_folds))\n",
    "    print('=============================')\n",
    "    \n",
    "    \n",
    "# plot \n",
    "plt.figure(figsize=(8,8))\n",
    "plt.plot(min_samples_split_list, mean_auc_list )\n",
    "plt.scatter(min_samples_split_list, mean_auc_list )\n",
    "plt.xlabel(name)\n",
    "plt.ylabel('CV auc')\n",
    "plt.grid(1)\n",
    "plt.show()"
   ]
  },
  {
   "cell_type": "markdown",
   "metadata": {},
   "source": [
    "#### Вывод\n",
    "В данном случае мы варьировали минимальное число участников, которых достаточно для создания нового узла дерева.\n",
    "При маленьком значении данного параметра во-первых точность алгоритма оставляет желать лучшего (roc_auc близок к 50%), во-вторых результаты кросс-валидации говорят о переобучении (разница в roc-auc около 5 процентов) Только при min_samples_split=50 достигается относительно хорошая точность алгоритма и удовлетворительные результаты кросс-валидации. Таким образом, маленькое значение min_samples_split приводит к созданию большого числа классов, снижая точность и становясь причиной переобучения. "
   ]
  },
  {
   "cell_type": "markdown",
   "metadata": {},
   "source": [
    "### max depth"
   ]
  },
  {
   "cell_type": "code",
   "execution_count": 27,
   "metadata": {},
   "outputs": [
    {
     "name": "stdout",
     "output_type": "stream",
     "text": [
      "max_depth: 2\n",
      "0.8158217211080647|0.8405494134766928|0.8344325175022584|0.831419437216322|0.835995190299826\n",
      "average auc: 0.8316436559206328\n",
      "=============================\n",
      "max_depth: 4\n",
      "0.8385729542117206|0.8497353973403782|0.8354046691508582|0.8441796669115237|0.8344829801783443\n",
      "average auc: 0.8404751335585651\n",
      "=============================\n",
      "max_depth: 8\n",
      "0.833109132668604|0.8343644416992979|0.8200628458107497|0.8275480687425558|0.8147125729907188\n",
      "average auc: 0.8259594123823852\n",
      "=============================\n",
      "max_depth: 20\n",
      "0.6459281051792065|0.6640494529195249|0.6273351047312556|0.6125920115760627|0.672789702591027\n",
      "average auc: 0.6445388753994153\n",
      "=============================\n",
      "max_depth: 80\n",
      "0.6402880037241271|0.6308016629769436|0.6186598421973802|0.6311554897070155|0.6197307852936992\n",
      "average auc: 0.6281271567798331\n",
      "=============================\n"
     ]
    },
    {
     "data": {
      "image/png": "[encoded data removed]",
      "text/plain": [
       "<Figure size 576x576 with 1 Axes>"
      ]
     },
     "metadata": {
      "needs_background": "light"
     },
     "output_type": "display_data"
    }
   ],
   "source": [
    "max_depth_list = [2,4,8,20,80]\n",
    "name='max_depth'\n",
    "x = np.array(train[features].copy())\n",
    "y = np.array(train['stroke'].copy())\n",
    "    \n",
    "mean_auc_list = []\n",
    "for n in max_depth_list:\n",
    "    clf = RandomForestClassifier(max_depth=n)\n",
    "    \n",
    "    print(\"{}:\".format(name), n)\n",
    "    \n",
    "    kf = KFold(n_splits=5)\n",
    "    kf.get_n_splits(x)\n",
    "    scores = []\n",
    "    fold_number = 1\n",
    "    \n",
    "    auc_in_folds = []\n",
    "    for train_index, test_index in kf.split(x):\n",
    "\n",
    "        x_train, x_test = x[train_index], x[test_index]\n",
    "        y_train, y_test = y[train_index], y[test_index]\n",
    "        \n",
    "        clf.fit(x_train, y_train)\n",
    "        prediction = clf.predict_proba(x_test)[:,1]\n",
    "        \n",
    "        auc = roc_auc_score(y_test, prediction )\n",
    "        auc_in_folds.append(auc)\n",
    "        \n",
    "    print('|'.join([str(el) for el in auc_in_folds]))\n",
    "    print(\"average auc:\",np.mean(auc_in_folds))\n",
    "    mean_auc_list.append( np.mean(auc_in_folds))\n",
    "    print('=============================')\n",
    "    \n",
    "    \n",
    "# plot \n",
    "plt.figure(figsize=(8,8))\n",
    "plt.plot(max_depth_list, mean_auc_list )\n",
    "plt.scatter(max_depth_list, mean_auc_list )\n",
    "plt.xlabel(name)\n",
    "plt.ylabel('CV auc')\n",
    "plt.grid(1)\n",
    "plt.show()"
   ]
  },
  {
   "cell_type": "markdown",
   "metadata": {},
   "source": [
    "#### Вывод\n",
    "Оптимальную точность и результаты кросс-валидации обеспечивают значения высоты дерева в 4-8 слоев. При бОльших значениях резко падает точность алгоритма и наблюдается переобученность. Этот эффект можно исправить при увеличении числа случайных деревьев."
   ]
  },
  {
   "cell_type": "markdown",
   "metadata": {},
   "source": [
    "## Decision tree"
   ]
  },
  {
   "cell_type": "markdown",
   "metadata": {},
   "source": [
    "### max depth"
   ]
  },
  {
   "cell_type": "code",
   "execution_count": 28,
   "metadata": {},
   "outputs": [
    {
     "name": "stdout",
     "output_type": "stream",
     "text": [
      "max_depth: 2\n",
      "0.7970864182317927|0.7707884706083763|0.8042164210704608|0.7894527515974495|0.7822233848723914\n",
      "average auc: 0.7887534892760941\n",
      "=============================\n",
      "max_depth: 4\n",
      "0.8342395489972583|0.8298134102272747|0.8315328237917796|0.8400841920619309|0.80829352021405\n",
      "average auc: 0.8287926990584588\n",
      "=============================\n",
      "max_depth: 8\n",
      "0.7417088540436558|0.7939716246586517|0.7902260825993677|0.7211674005458788|0.7681094237385628\n",
      "average auc: 0.7630366771172233\n",
      "=============================\n",
      "max_depth: 20\n",
      "0.5490400446347582|0.521842097754444|0.530445460704607|0.5176698193730278|0.5574096766149746\n",
      "average auc: 0.5352814198163622\n",
      "=============================\n",
      "max_depth: 80\n",
      "0.5305768631759822|0.5281613430032612|0.5204945799457995|0.5263760753993452|0.5412289518249784\n",
      "average auc: 0.5293675626698733\n",
      "=============================\n"
     ]
    },
    {
     "data": {
      "image/png": "[encoded data removed]",
      "text/plain": [
       "<Figure size 576x576 with 1 Axes>"
      ]
     },
     "metadata": {
      "needs_background": "light"
     },
     "output_type": "display_data"
    }
   ],
   "source": [
    "from sklearn.tree import DecisionTreeClassifier\n",
    "max_depth_list = [2,4,8,20,80]\n",
    "name='max_depth'\n",
    "x = np.array(train[features].copy())\n",
    "y = np.array(train['stroke'].copy())\n",
    "    \n",
    "mean_auc_list = []\n",
    "for n in max_depth_list:\n",
    "    clf = DecisionTreeClassifier(max_depth=n)\n",
    "    \n",
    "    print(\"{}:\".format(name), n)\n",
    "    \n",
    "    kf = KFold(n_splits=5)\n",
    "    kf.get_n_splits(x)\n",
    "    scores = []\n",
    "    fold_number = 1\n",
    "    \n",
    "    auc_in_folds = []\n",
    "    for train_index, test_index in kf.split(x):\n",
    "\n",
    "        x_train, x_test = x[train_index], x[test_index]\n",
    "        y_train, y_test = y[train_index], y[test_index]\n",
    "        \n",
    "        clf.fit(x_train, y_train)\n",
    "        prediction = clf.predict_proba(x_test)[:,1]\n",
    "        \n",
    "        auc = roc_auc_score(y_test, prediction )\n",
    "        auc_in_folds.append(auc)\n",
    "        \n",
    "    print('|'.join([str(el) for el in auc_in_folds]))\n",
    "    print(\"average auc:\",np.mean(auc_in_folds))\n",
    "    mean_auc_list.append( np.mean(auc_in_folds))\n",
    "    print('=============================')\n",
    "    \n",
    "    \n",
    "# plot \n",
    "plt.figure(figsize=(8,8))\n",
    "plt.plot(max_depth_list, mean_auc_list )\n",
    "plt.scatter(max_depth_list, mean_auc_list )\n",
    "plt.xlabel(name)\n",
    "plt.ylabel('CV auc')\n",
    "plt.grid(1)\n",
    "plt.show()"
   ]
  },
  {
   "cell_type": "markdown",
   "metadata": {},
   "source": [
    "#### Вывод\n",
    "При варьировании максимальной высоты дерева мы получили примерно те же закономерности, что и для случайного леса:\n",
    "начиная со значения 4, точность падает и при высоких значениях наблюдается переобученность. Стоит так же отметить, что при одних и тех же значениях максимальной высоты метод случайных деревьев дает более точные результаты, чем метод решающего дерева, что естественно. "
   ]
  },
  {
   "cell_type": "markdown",
   "metadata": {},
   "source": [
    "### min_sampes_split"
   ]
  },
  {
   "cell_type": "code",
   "execution_count": 37,
   "metadata": {},
   "outputs": [
    {
     "name": "stdout",
     "output_type": "stream",
     "text": [
      "min_samples_split: 5\n",
      "0.5573568624229417|0.5444797658270659|0.5352700499661247|0.5367237031226871|0.5866388548507753\n",
      "average auc: 0.5520938472379189\n",
      "=============================\n",
      "min_samples_split: 10\n",
      "0.5686627371649399|0.5636271628519014|0.5628281673441734|0.5532639986940963|0.5975838293719089\n",
      "average auc: 0.5691931790854039\n",
      "=============================\n",
      "min_samples_split: 30\n",
      "0.615664438351663|0.6116332857221983|0.5891194882000903|0.6023543619815983|0.6777279062047274\n",
      "average auc: 0.6192998960920555\n",
      "=============================\n",
      "min_samples_split: 50\n",
      "0.6282530489578947|0.6234955077131717|0.6158580693879855|0.6285180896729846|0.6910884394328103\n",
      "average auc: 0.6374426310329694\n",
      "=============================\n",
      "min_samples_split: 150\n",
      "0.7294377184245024|0.7235284047136703|0.7250072337962963|0.7171632282938449|0.7565288161314652\n",
      "average auc: 0.7303330802719559\n",
      "=============================\n"
     ]
    },
    {
     "data": {
      "image/png": "[encoded data removed]",
      "text/plain": [
       "<Figure size 576x576 with 1 Axes>"
      ]
     },
     "metadata": {
      "needs_background": "light"
     },
     "output_type": "display_data"
    }
   ],
   "source": [
    "min_samples_split_list = [5,10,30,50,150]\n",
    "name='min_samples_split'\n",
    "x = np.array(train[features].copy())\n",
    "y = np.array(train['stroke'].copy())\n",
    "    \n",
    "mean_auc_list = []\n",
    "for n in min_samples_split_list:\n",
    "    clf = DecisionTreeClassifier(min_samples_split=n)\n",
    "    \n",
    "    print(\"{}:\".format(name), n)\n",
    "    \n",
    "    kf = KFold(n_splits=5)\n",
    "    kf.get_n_splits(x)\n",
    "    scores = []\n",
    "    fold_number = 1\n",
    "    \n",
    "    auc_in_folds = []\n",
    "    for train_index, test_index in kf.split(x):\n",
    "\n",
    "        x_train, x_test = x[train_index], x[test_index]\n",
    "        y_train, y_test = y[train_index], y[test_index]\n",
    "        \n",
    "        clf.fit(x_train, y_train)\n",
    "        prediction = clf.predict_proba(x_test)[:,1]\n",
    "        \n",
    "        auc = roc_auc_score(y_test, prediction )\n",
    "        auc_in_folds.append(auc)\n",
    "        \n",
    "    print('|'.join([str(el) for el in auc_in_folds]))\n",
    "    print(\"average auc:\",np.mean(auc_in_folds))\n",
    "    mean_auc_list.append( np.mean(auc_in_folds))\n",
    "    print('=============================')\n",
    "    \n",
    "    \n",
    "# plot \n",
    "plt.figure(figsize=(8,8))\n",
    "plt.plot(min_samples_split_list, mean_auc_list )\n",
    "plt.scatter(min_samples_split_list, mean_auc_list )\n",
    "plt.xlabel(name)\n",
    "plt.ylabel('CV auc')\n",
    "plt.grid(1)\n",
    "plt.show()"
   ]
  },
  {
   "cell_type": "markdown",
   "metadata": {},
   "source": [
    "#### Вывод \n",
    "В данном случае варьировалось минимальное число объектов для создания нового узла. Закономерность та же, что и для \n",
    "метода случайного леса. Отличие состоит в том, что 50 объектов недостаточно для приемлемой точности и избежания переобученности. Кроме того результаты в целом хуже, чем у метода случайного леса. "
   ]
  },
  {
   "cell_type": "markdown",
   "metadata": {},
   "source": [
    "### min_samples_leaf"
   ]
  },
  {
   "cell_type": "code",
   "execution_count": 38,
   "metadata": {},
   "outputs": [
    {
     "name": "stdout",
     "output_type": "stream",
     "text": [
      "min_samples_leaf: 5\n",
      "0.6230305426340669|0.6446167247679168|0.6245192171973803|0.6122855945251641|0.6863927095715175\n",
      "average auc: 0.6381689577392091\n",
      "=============================\n",
      "min_samples_leaf: 10\n",
      "0.621122269800684|0.626549389978835|0.6673565238256549|0.6069955773575091|0.6988292418755995\n",
      "average auc: 0.6441706005676565\n",
      "=============================\n",
      "min_samples_leaf: 30\n",
      "0.7032695645030447|0.7090738655150478|0.6991569980803973|0.6643529758421626|0.7186922021359108\n",
      "average auc: 0.6989091212153127\n",
      "=============================\n",
      "min_samples_leaf: 50\n",
      "0.7115418844493734|0.7572209755303383|0.7193992773261065|0.6844637563272008|0.7383218674609403\n",
      "average auc: 0.722189552218792\n",
      "=============================\n",
      "min_samples_leaf: 150\n",
      "0.7973516938274647|0.8097378478312317|0.7787860984078592|0.7550655649486562|0.8043198572999898\n",
      "average auc: 0.7890522124630402\n",
      "=============================\n"
     ]
    },
    {
     "data": {
      "image/png": "[encoded data removed]",
      "text/plain": [
       "<Figure size 576x576 with 1 Axes>"
      ]
     },
     "metadata": {
      "needs_background": "light"
     },
     "output_type": "display_data"
    }
   ],
   "source": [
    "min_samples_leaf_list = [5,10,30,50,150]\n",
    "name='min_samples_leaf'\n",
    "x = np.array(train[features].copy())\n",
    "y = np.array(train['stroke'].copy())\n",
    "    \n",
    "mean_auc_list = []\n",
    "for n in min_samples_leaf_list:\n",
    "    clf = DecisionTreeClassifier(min_samples_leaf=n,min_samples_split=50)\n",
    "    \n",
    "    print(\"{}:\".format(name), n)\n",
    "    \n",
    "    kf = KFold(n_splits=5)\n",
    "    kf.get_n_splits(x)\n",
    "    scores = []\n",
    "    \n",
    "    auc_in_folds = []\n",
    "    for train_index, test_index in kf.split(x):\n",
    "\n",
    "        x_train, x_test = x[train_index], x[test_index]\n",
    "        y_train, y_test = y[train_index], y[test_index]\n",
    "        \n",
    "        clf.fit(x_train, y_train)\n",
    "        prediction = clf.predict_proba(x_test)[:,1]\n",
    "        \n",
    "        auc = roc_auc_score(y_test, prediction )\n",
    "        auc_in_folds.append(auc)\n",
    "        \n",
    "    print('|'.join([str(el) for el in auc_in_folds]))\n",
    "    print(\"average auc:\",np.mean(auc_in_folds))\n",
    "    mean_auc_list.append( np.mean(auc_in_folds))\n",
    "    print('=============================')\n",
    "    \n",
    "    \n",
    "# plot \n",
    "plt.figure(figsize=(8,8))\n",
    "plt.plot(min_samples_leaf_list, mean_auc_list )\n",
    "plt.scatter(min_samples_leaf_list, mean_auc_list )\n",
    "plt.xlabel(name)\n",
    "plt.ylabel('CV auc')\n",
    "plt.grid(1)\n",
    "plt.show()"
   ]
  },
  {
   "cell_type": "markdown",
   "metadata": {},
   "source": [
    "### Вывод\n",
    "min_samples_leaf - Минимальное количество объектов, которые должны оказаться и в левой и в правой ветви для создания узла.. \n",
    "По-видимому, данный параметр должен ограничивать высоту дерева, предотвращая переобучение. Дополняет параметр min_samples_split. Принцип работы и задачи у этих параметров похожи, предполагаю, что они взаимозаменяемы. Однако одновременное их позволяет уменьшить эффект переобучения.\n",
    "В рассмотренном случае видим, что при малых значениях min_samples_leaf точность модели низкая. При всех параметрах наблюдается эффект переобучения. "
   ]
  },
  {
   "cell_type": "markdown",
   "metadata": {},
   "source": [
    "## Logistic Regression"
   ]
  },
  {
   "cell_type": "markdown",
   "metadata": {},
   "source": [
    "### max_iter"
   ]
  },
  {
   "cell_type": "code",
   "execution_count": 72,
   "metadata": {},
   "outputs": [
    {
     "name": "stdout",
     "output_type": "stream",
     "text": [
      "max_iter: 10\n",
      "0.6702025336386568|0.6406640494529194|0.672750112917796|0.6689713655686838|0.6617682379271785\n",
      "average auc: 0.662871259901047\n",
      "=============================\n",
      "max_iter: 20\n",
      "0.8419453771876679|0.8415321274456654|0.8471728206865403|0.8511145142079293|0.839896952479734\n",
      "average auc: 0.8443323584015074\n",
      "=============================\n",
      "max_iter: 50\n",
      "0.842511868943587|0.8439104463082349|0.8478309197154472|0.8514811079708552|0.8427943990857899\n",
      "average auc: 0.8457057484047829\n",
      "=============================\n",
      "max_iter: 100\n",
      "0.842511868943587|0.8439104463082349|0.8478309197154472|0.8514811079708552|0.8427943990857899\n",
      "average auc: 0.8457057484047829\n",
      "=============================\n",
      "max_iter: 500\n",
      "0.842511868943587|0.8439104463082349|0.8478309197154472|0.8514811079708552|0.8427943990857899\n",
      "average auc: 0.8457057484047829\n",
      "=============================\n",
      "max_iter: 1000\n",
      "0.842511868943587|0.8439104463082349|0.8478309197154472|0.8514811079708552|0.8427943990857899\n",
      "average auc: 0.8457057484047829\n",
      "=============================\n"
     ]
    },
    {
     "data": {
      "image/png": "[encoded data removed]",
      "text/plain": [
       "<Figure size 576x576 with 1 Axes>"
      ]
     },
     "metadata": {
      "needs_background": "light"
     },
     "output_type": "display_data"
    }
   ],
   "source": [
    "from sklearn.linear_model import LogisticRegression\n",
    "max_iter_list = [10,20,50,100,500,1000]\n",
    "name='max_iter'\n",
    "x = np.array(train[features].copy())\n",
    "y = np.array(train['stroke'].copy())\n",
    "    \n",
    "mean_auc_list = []\n",
    "for n in max_iter_list:\n",
    "    clf = LogisticRegression(max_iter=n)\n",
    "    \n",
    "    print(\"{}:\".format(name), n)\n",
    "    \n",
    "    kf = KFold(n_splits=5)\n",
    "    kf.get_n_splits(X)\n",
    "    scores = []\n",
    "    fold_number = 1\n",
    "    \n",
    "    auc_in_folds = []\n",
    "    for train_index, test_index in kf.split(X):\n",
    "\n",
    "        x_train, x_test = x[train_index], x[test_index]\n",
    "        y_train, y_test = y[train_index], y[test_index]\n",
    "        \n",
    "        clf.fit(x_train, y_train)\n",
    "        prediction = clf.predict_proba(x_test)[:,1]\n",
    "        \n",
    "        auc = roc_auc_score(y_test, prediction )\n",
    "        auc_in_folds.append(auc)\n",
    "        \n",
    "    print('|'.join([str(el) for el in auc_in_folds]))\n",
    "    print(\"average auc:\",np.mean(auc_in_folds))\n",
    "    mean_auc_list.append( np.mean(auc_in_folds))\n",
    "    print('=============================')\n",
    "    \n",
    "    \n",
    "# plot \n",
    "plt.figure(figsize=(8,8))\n",
    "plt.plot(max_iter_list, mean_auc_list )\n",
    "plt.scatter(max_iter_list, mean_auc_list )\n",
    "plt.xlabel(name)\n",
    "plt.ylabel('CV auc')\n",
    "plt.grid(1)\n",
    "plt.show()"
   ]
  },
  {
   "cell_type": "markdown",
   "metadata": {},
   "source": [
    "#### Вывод\n",
    "max_iter - максимальное количество итераций, необходимое для сходимости модели. \n",
    "В данном случае примерно 30 итераций хватает алгоритму, для того чтобы сойтись."
   ]
  },
  {
   "cell_type": "markdown",
   "metadata": {},
   "source": [
    "### solver"
   ]
  },
  {
   "cell_type": "code",
   "execution_count": 40,
   "metadata": {},
   "outputs": [
    {
     "name": "stdout",
     "output_type": "stream",
     "text": [
      "solver: newton-cg\n",
      "0.8429962108376206|0.8461561701177747|0.8475151027551941|0.8498943794950965|0.8443134933201158\n",
      "average auc: 0.8461750713051603\n",
      "=============================\n",
      "solver: lbfgs\n",
      "0.8422876682788577|0.840993355141583|0.847118126129178|0.8524577690901973|0.8427546242115778\n",
      "average auc: 0.8451223085702788\n",
      "=============================\n",
      "solver: liblinear\n",
      "0.842511868943587|0.8439104463082349|0.8478309197154472|0.8514811079708552|0.8427943990857899\n",
      "average auc: 0.8457057484047829\n",
      "=============================\n",
      "solver: sag\n"
     ]
    },
    {
     "name": "stderr",
     "output_type": "stream",
     "text": [
      "/home/gatupov/anaconda3/lib/python3.7/site-packages/sklearn/linear_model/sag.py:326: ConvergenceWarning: The max_iter was reached which means the coef_ did not converge\n",
      "  \"the coef_ did not converge\", ConvergenceWarning)\n",
      "/home/gatupov/anaconda3/lib/python3.7/site-packages/sklearn/linear_model/sag.py:326: ConvergenceWarning: The max_iter was reached which means the coef_ did not converge\n",
      "  \"the coef_ did not converge\", ConvergenceWarning)\n",
      "/home/gatupov/anaconda3/lib/python3.7/site-packages/sklearn/linear_model/sag.py:326: ConvergenceWarning: The max_iter was reached which means the coef_ did not converge\n",
      "  \"the coef_ did not converge\", ConvergenceWarning)\n",
      "/home/gatupov/anaconda3/lib/python3.7/site-packages/sklearn/linear_model/sag.py:326: ConvergenceWarning: The max_iter was reached which means the coef_ did not converge\n",
      "  \"the coef_ did not converge\", ConvergenceWarning)\n",
      "/home/gatupov/anaconda3/lib/python3.7/site-packages/sklearn/linear_model/sag.py:326: ConvergenceWarning: The max_iter was reached which means the coef_ did not converge\n",
      "  \"the coef_ did not converge\", ConvergenceWarning)\n"
     ]
    },
    {
     "name": "stdout",
     "output_type": "stream",
     "text": [
      "0.6974198097546115|0.6705936062329746|0.706764834575429|0.7003006068855994|0.6874903431194821\n",
      "average auc: 0.6925138401136193\n",
      "=============================\n",
      "solver: saga\n"
     ]
    },
    {
     "name": "stderr",
     "output_type": "stream",
     "text": [
      "/home/gatupov/anaconda3/lib/python3.7/site-packages/sklearn/linear_model/sag.py:326: ConvergenceWarning: The max_iter was reached which means the coef_ did not converge\n",
      "  \"the coef_ did not converge\", ConvergenceWarning)\n",
      "/home/gatupov/anaconda3/lib/python3.7/site-packages/sklearn/linear_model/sag.py:326: ConvergenceWarning: The max_iter was reached which means the coef_ did not converge\n",
      "  \"the coef_ did not converge\", ConvergenceWarning)\n",
      "/home/gatupov/anaconda3/lib/python3.7/site-packages/sklearn/linear_model/sag.py:326: ConvergenceWarning: The max_iter was reached which means the coef_ did not converge\n",
      "  \"the coef_ did not converge\", ConvergenceWarning)\n",
      "/home/gatupov/anaconda3/lib/python3.7/site-packages/sklearn/linear_model/sag.py:326: ConvergenceWarning: The max_iter was reached which means the coef_ did not converge\n",
      "  \"the coef_ did not converge\", ConvergenceWarning)\n"
     ]
    },
    {
     "name": "stdout",
     "output_type": "stream",
     "text": [
      "0.6812157494976878|0.653279042093055|0.6874894139566397|0.6808559203509339|0.6722749239305532\n",
      "average auc: 0.6750230099657739\n",
      "=============================\n"
     ]
    },
    {
     "name": "stderr",
     "output_type": "stream",
     "text": [
      "/home/gatupov/anaconda3/lib/python3.7/site-packages/sklearn/linear_model/sag.py:326: ConvergenceWarning: The max_iter was reached which means the coef_ did not converge\n",
      "  \"the coef_ did not converge\", ConvergenceWarning)\n"
     ]
    },
    {
     "data": {
      "image/png": "[encoded data removed]",
      "text/plain": [
       "<Figure size 576x576 with 1 Axes>"
      ]
     },
     "metadata": {
      "needs_background": "light"
     },
     "output_type": "display_data"
    }
   ],
   "source": [
    "from sklearn.linear_model import LogisticRegression\n",
    "solver_list = ['newton-cg','lbfgs', 'liblinear', 'sag', 'saga']\n",
    "name='solver'\n",
    "x = np.array(train[features].copy())\n",
    "y = np.array(train['stroke'].copy())\n",
    "    \n",
    "mean_auc_list = []\n",
    "for n in solver_list:\n",
    "    clf = LogisticRegression(solver=n)\n",
    "    \n",
    "    print(\"{}:\".format(name), n)\n",
    "    \n",
    "    kf = KFold(n_splits=5)\n",
    "    kf.get_n_splits(x)\n",
    "    scores = []\n",
    "    fold_number = 1\n",
    "    \n",
    "    auc_in_folds = []\n",
    "    for train_index, test_index in kf.split(x):\n",
    "\n",
    "        x_train, x_test = x[train_index], x[test_index]\n",
    "        y_train, y_test = y[train_index], y[test_index]\n",
    "        \n",
    "        clf.fit(x_train, y_train)\n",
    "        prediction = clf.predict_proba(x_test)[:,1]\n",
    "        \n",
    "        auc = roc_auc_score(y_test, prediction )\n",
    "        auc_in_folds.append(auc)\n",
    "        \n",
    "    print('|'.join([str(el) for el in auc_in_folds]))\n",
    "    print(\"average auc:\",np.mean(auc_in_folds))\n",
    "    mean_auc_list.append( np.mean(auc_in_folds))\n",
    "    print('=============================')\n",
    "    \n",
    "    \n",
    "# plot \n",
    "plt.figure(figsize=(8,8))\n",
    "plt.plot(solver_list, mean_auc_list )\n",
    "plt.scatter(solver_list, mean_auc_list )\n",
    "plt.xlabel(name)\n",
    "plt.ylabel('CV auc')\n",
    "plt.grid(1)\n",
    "plt.show()"
   ]
  },
  {
   "cell_type": "markdown",
   "metadata": {},
   "source": [
    "#### Вывод\n",
    "В данном случае использованы различные алгоритмы для вычисления коэффициентов регрессии.\n",
    "На нашем датасете не работают алгоритмы 'sag' и 'saga'"
   ]
  },
  {
   "cell_type": "markdown",
   "metadata": {},
   "source": [
    "### tolerance"
   ]
  },
  {
   "cell_type": "code",
   "execution_count": 90,
   "metadata": {},
   "outputs": [
    {
     "name": "stdout",
     "output_type": "stream",
     "text": [
      "tol: 0.0001\n",
      "0.9991853472029684|0.9999949647448216|1.0|1.0|1.0\n",
      "average auc: 0.999836062389558\n",
      "=============================\n",
      "tol: 0.001\n",
      "0.6462952123745076|0.6471595286329785|0.6833696787488709|0.5757154457710989|0.670050590580392\n",
      "average auc: 0.6445180912215696\n",
      "=============================\n",
      "tol: 0.01\n",
      "0.348803179199655|0.3782450121601413|0.37869629347335143|0.32712752344470863|0.33508189799580523\n",
      "average auc: 0.3535907812547323\n",
      "=============================\n",
      "tol: 0.1\n",
      "0.5042957531944317|0.46548416496167333|0.48098393744354107|0.5129407598312838|0.4516482860853722\n",
      "average auc: 0.4830705803032604\n",
      "=============================\n",
      "tol: 0.5\n",
      "0.5042974646498877|0.46548416496167333|0.48098923046522135|0.5129407598312838|0.4516482860853722\n",
      "average auc: 0.4830719811986877\n",
      "=============================\n"
     ]
    },
    {
     "data": {
      "image/png": "[encoded data removed]",
      "text/plain": [
       "<Figure size 576x576 with 1 Axes>"
      ]
     },
     "metadata": {
      "needs_background": "light"
     },
     "output_type": "display_data"
    }
   ],
   "source": [
    "from sklearn.linear_model import LogisticRegression\n",
    "tol_list = [1e-4,1e-3,1e-2,1e-1,0.5]\n",
    "name='tol'\n",
    "x = np.array(train[features].copy())\n",
    "y = np.array(train['stroke'].copy())\n",
    "\n",
    "mean_auc_list = []\n",
    "for n in tol_list:\n",
    "    clf = LogisticRegression(tol=n)\n",
    "    \n",
    "    print(\"{}:\".format(name), n)\n",
    "    \n",
    "    kf = KFold(n_splits=5)\n",
    "    kf.get_n_splits(x)\n",
    "    scores = []\n",
    "    \n",
    "    auc_in_folds = []\n",
    "    for train_index, test_index in kf.split(x):\n",
    "\n",
    "        x_train, x_test = x[train_index], x[test_index]\n",
    "        y_train, y_test = y[train_index], y[test_index]\n",
    "        \n",
    "        clf.fit(x_train, y_train)\n",
    "        prediction = clf.predict_proba(x_test)[:,1]\n",
    "        \n",
    "        auc = roc_auc_score(y_test, prediction )\n",
    "        auc_in_folds.append(auc)\n",
    "        \n",
    "    print('|'.join([str(el) for el in auc_in_folds]))\n",
    "    print(\"average auc:\",np.mean(auc_in_folds))\n",
    "    mean_auc_list.append( np.mean(auc_in_folds))\n",
    "    print('=============================')\n",
    "    \n",
    "    \n",
    "# plot \n",
    "plt.figure(figsize=(8,8))\n",
    "plt.plot(tol_list, mean_auc_list )\n",
    "plt.scatter(tol_list, mean_auc_list )\n",
    "plt.xlabel(name)\n",
    "plt.ylabel('CV auc')\n",
    "plt.grid(1)\n",
    "plt.show()"
   ]
  },
  {
   "cell_type": "markdown",
   "metadata": {},
   "source": [
    "#### вывод\n",
    "Было проверены различные критерии остановки для поиска максимума функции правдоподобия. Из наших результатов видно, что оптимальный критерий лежит в интервале $10^{-4}-10^{-3}$"
   ]
  },
  {
   "cell_type": "markdown",
   "metadata": {},
   "source": [
    "## Submiting"
   ]
  },
  {
   "cell_type": "markdown",
   "metadata": {},
   "source": [
    "### Decision Tree"
   ]
  },
  {
   "cell_type": "code",
   "execution_count": 110,
   "metadata": {},
   "outputs": [
    {
     "name": "stdout",
     "output_type": "stream",
     "text": [
      "Decision Tree\n",
      "roc-auc:\n",
      "0.825849994352197|0.8175139602449819|0.8307979759485096|0.8295138413354526|0.8144639800268939\n",
      "average auc: 0.8236279503816071\n",
      "=============================\n",
      "[0 0 0 ... 0 0 0]\n"
     ]
    }
   ],
   "source": [
    "features = ['gender', 'age', 'hypertension', 'heart_disease', 'ever_married', \\\n",
    "        'Residence_type', 'avg_glucose_level', 'bmi', \\\n",
    "       'Govt_job','Never_worked','Private','Self-employed','children',\\\n",
    "           'formerly smoked','never smoked','smokes']\n",
    "\n",
    "clf = DecisionTreeClassifier(max_depth=3)\n",
    "x = np.array(train[features].copy())\n",
    "y = np.array(train['stroke'].copy())\n",
    "kf = KFold(n_splits=5)\n",
    "kf.get_n_splits(x)\n",
    "auc_in_folds = []\n",
    "for train_index, test_index in kf.split(x):\n",
    "    x_train, x_test = x[train_index], x[test_index]\n",
    "    y_train, y_test = y[train_index], y[test_index]\n",
    "    clf.fit(x_train, y_train)\n",
    "    prediction = clf.predict_proba(x_test)[:,1]    \n",
    "    auc = roc_auc_score(y_test, prediction )\n",
    "    auc_in_folds.append(auc)\n",
    "        \n",
    "print('Decision Tree')\n",
    "print('roc-auc:')\n",
    "print('|'.join([str(el) for el in auc_in_folds]))\n",
    "print(\"average auc:\",np.mean(auc_in_folds))\n",
    "mean_auc_list.append( np.mean(auc_in_folds))\n",
    "print('=============================')\n",
    "output = pd.DataFrame()\n",
    "output['id'] = test['id'].copy()\n",
    "prediction = clf.predict(test[features])\n",
    "print(prediction)\n",
    "output['stroke'] = prediction\n",
    "output.to_csv('submission_decision_tree.csv',index=None) "
   ]
  },
  {
   "cell_type": "markdown",
   "metadata": {},
   "source": [
    "### Random Forest"
   ]
  },
  {
   "cell_type": "code",
   "execution_count": 111,
   "metadata": {},
   "outputs": [
    {
     "name": "stdout",
     "output_type": "stream",
     "text": [
      "Random Forest\n",
      "roc-auc:\n",
      "0.5544850401678595|0.5560172138590364|0.5527290819783198|0.5505809473612857|0.5747308694328562\n",
      "average auc: 0.5577086305598715\n",
      "=============================\n",
      "[0 0 0 ... 0 0 0]\n"
     ]
    }
   ],
   "source": [
    "\n",
    "\n",
    "clf = RandomForestClassifier(n_estimators=3)\n",
    "x = np.array(train[features].copy())\n",
    "y = np.array(train['stroke'].copy())\n",
    "kf = KFold(n_splits=5)\n",
    "kf.get_n_splits(x)\n",
    "auc_in_folds = []\n",
    "for train_index, test_index in kf.split(x):\n",
    "    x_train, x_test = x[train_index], x[test_index]\n",
    "    y_train, y_test = y[train_index], y[test_index]\n",
    "    clf.fit(x_train, y_train)\n",
    "    prediction = clf.predict_proba(x_test)[:,1]    \n",
    "    auc = roc_auc_score(y_test, prediction )\n",
    "    auc_in_folds.append(auc)\n",
    "        \n",
    "print('Random Forest')\n",
    "print('roc-auc:')\n",
    "print('|'.join([str(el) for el in auc_in_folds]))\n",
    "print(\"average auc:\",np.mean(auc_in_folds))\n",
    "mean_auc_list.append( np.mean(auc_in_folds))\n",
    "print('=============================')\n",
    "output = pd.DataFrame()\n",
    "output['id'] = test['id'].copy()\n",
    "prediction = clf.predict(test[features])\n",
    "print(prediction)\n",
    "output['stroke'] = prediction\n",
    "output.to_csv('submission_random_forest.csv',index=None)"
   ]
  },
  {
   "cell_type": "markdown",
   "metadata": {},
   "source": [
    "### Logistic Regression"
   ]
  },
  {
   "cell_type": "code",
   "execution_count": 113,
   "metadata": {},
   "outputs": [
    {
     "name": "stdout",
     "output_type": "stream",
     "text": [
      "Logistic Regression\n",
      "roc-auc:\n",
      "0.842511868943587|0.8439104463082349|0.8478309197154472|0.8514811079708552|0.8427943990857899\n",
      "average auc: 0.8457057484047829\n",
      "=============================\n",
      "{0}\n"
     ]
    }
   ],
   "source": [
    "clf = LogisticRegression()\n",
    "x = np.array(train[features].copy())\n",
    "y = np.array(train['stroke'].copy())\n",
    "kf = KFold(n_splits=5)\n",
    "kf.get_n_splits(x)\n",
    "auc_in_folds = []\n",
    "for train_index, test_index in kf.split(x):\n",
    "    x_train, x_test = x[train_index], x[test_index]\n",
    "    y_train, y_test = y[train_index], y[test_index]\n",
    "    clf.fit(x_train, y_train)\n",
    "    prediction = clf.predict_proba(x_test)[:,1]    \n",
    "    auc = roc_auc_score(y_test, prediction )\n",
    "    auc_in_folds.append(auc)\n",
    "        \n",
    "print('Logistic Regression')\n",
    "print('roc-auc:')\n",
    "print('|'.join([str(el) for el in auc_in_folds]))\n",
    "print(\"average auc:\",np.mean(auc_in_folds))\n",
    "mean_auc_list.append( np.mean(auc_in_folds))\n",
    "print('=============================')\n",
    "output = pd.DataFrame()\n",
    "output['id'] = test['id'].copy()\n",
    "prediction = clf.predict(test[features])\n",
    "print(set(prediction))\n",
    "output['stroke'] = prediction\n",
    "output.to_csv('submission_logistic_regression.csv',index=None)"
   ]
  }
 ],
 "metadata": {
  "kernelspec": {
   "display_name": "Python 3",
   "language": "python",
   "name": "python3"
  },
  "language_info": {
   "codemirror_mode": {
    "name": "ipython",
    "version": 3
   },
   "file_extension": ".py",
   "mimetype": "text/x-python",
   "name": "python",
   "nbconvert_exporter": "python",
   "pygments_lexer": "ipython3",
   "version": "3.7.0"
  }
 },
 "nbformat": 4,
 "nbformat_minor": 2
}
